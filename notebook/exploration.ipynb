{
 "cells": [
  {
   "cell_type": "code",
   "execution_count": 2,
   "id": "f6dddbdc05c59f5a",
   "metadata": {
    "ExecuteTime": {
     "end_time": "2025-08-03T10:33:18.257776Z",
     "start_time": "2025-08-03T10:33:18.150283Z"
    }
   },
   "outputs": [],
   "source": [
    "import pandas as pd\n",
    "\n",
    "train_data = pd.read_csv('../data/raw/ALLtrainMescla5D.csv')\n",
    "test_data = pd.read_csv('../data/raw/ALLtestMescla5D.csv')\n"
   ]
  },
  {
   "cell_type": "code",
   "execution_count": 3,
   "id": "1beac3b2968a28bf",
   "metadata": {
    "ExecuteTime": {
     "end_time": "2025-08-03T10:33:19.909296Z",
     "start_time": "2025-08-03T10:33:19.898922Z"
    }
   },
   "outputs": [
    {
     "name": "stdout",
     "output_type": "stream",
     "text": [
      "machineID            0\n",
      "datetime             0\n",
      "time_in_cycles       0\n",
      "voltmean_24h         0\n",
      "rotatemean_24h       0\n",
      "pressuremean_24h     0\n",
      "vibrationmean_24h    0\n",
      "voltsd_24h           0\n",
      "rotatesd_24h         0\n",
      "pressuresd_24h       0\n",
      "vibrationsd_24h      0\n",
      "voltmean_5d          0\n",
      "rotatemean_5d        0\n",
      "pressuremean_5d      0\n",
      "vibrationmean_5d     0\n",
      "voltsd_5d            0\n",
      "rotatesd_5d          0\n",
      "pressuresd_5d        0\n",
      "vibrationsd_5d       0\n",
      "error1               0\n",
      "error2               0\n",
      "error3               0\n",
      "error4               0\n",
      "error5               0\n",
      "comp1                0\n",
      "comp2                0\n",
      "comp3                0\n",
      "comp4                0\n",
      "model                0\n",
      "age                  0\n",
      "DI                   0\n",
      "RULWeek              0\n",
      "failure              0\n",
      "failed               0\n",
      "RUL                  0\n",
      "RUL_I                0\n",
      "dtype: int64\n",
      "machineID            0\n",
      "datetime             0\n",
      "time_in_cycles       0\n",
      "voltmean_24h         0\n",
      "rotatemean_24h       0\n",
      "pressuremean_24h     0\n",
      "vibrationmean_24h    0\n",
      "voltsd_24h           0\n",
      "rotatesd_24h         0\n",
      "pressuresd_24h       0\n",
      "vibrationsd_24h      0\n",
      "voltmean_5d          0\n",
      "rotatemean_5d        0\n",
      "pressuremean_5d      0\n",
      "vibrationmean_5d     0\n",
      "voltsd_5d            0\n",
      "rotatesd_5d          0\n",
      "pressuresd_5d        0\n",
      "vibrationsd_5d       0\n",
      "error1               0\n",
      "error2               0\n",
      "error3               0\n",
      "error4               0\n",
      "error5               0\n",
      "comp1                0\n",
      "comp2                0\n",
      "comp3                0\n",
      "comp4                0\n",
      "model                0\n",
      "age                  0\n",
      "DI                   0\n",
      "RULWeek              0\n",
      "failure              0\n",
      "failed               0\n",
      "RUL                  0\n",
      "RUL_I                0\n",
      "dtype: int64\n"
     ]
    }
   ],
   "source": [
    "# Check for missing values\n",
    "print(train_data.isnull().sum())\n",
    "print(test_data.isnull().sum())"
   ]
  },
  {
   "cell_type": "code",
   "execution_count": 4,
   "id": "bdcad45002ca758b",
   "metadata": {
    "ExecuteTime": {
     "end_time": "2025-08-03T10:33:23.295827Z",
     "start_time": "2025-08-03T10:33:23.231203Z"
    }
   },
   "outputs": [],
   "source": [
    "# Parse datetime field as datetime and convert to time elapsed\n",
    "\n",
    "train_data['datetime'] = pd.to_datetime(train_data['datetime'])\n",
    "test_data['datetime'] = pd.to_datetime(test_data['datetime'])\n",
    "\n",
    "train_data['elapsed_time'] = ( train_data.groupby('machineID')['datetime'].transform(lambda x: ((x - x.min()).dt.total_seconds() / 3600)))\n",
    "test_data['elapsed_time'] = ( test_data.groupby('machineID')['datetime'].transform(lambda x: ((x - x.min()).dt.total_seconds() / 3600)))\n",
    "\n",
    "train_data.drop('datetime', axis=1, inplace=True)\n",
    "test_data.drop('datetime', axis=1, inplace=True)"
   ]
  },
  {
   "cell_type": "code",
   "execution_count": 5,
   "id": "553155d0883d1387",
   "metadata": {
    "ExecuteTime": {
     "end_time": "2025-08-03T10:34:00.007628Z",
     "start_time": "2025-08-03T10:33:59.611080Z"
    }
   },
   "outputs": [
    {
     "name": "stdout",
     "output_type": "stream",
     "text": [
      "       machineID  time_in_cycles  voltmean_24h  rotatemean_24h  \\\n",
      "0              1               2    171.025033      454.614348   \n",
      "1              1               3    174.139410      444.337772   \n",
      "2              1               4    172.135931      446.126781   \n",
      "3              1               5    169.350052      466.884090   \n",
      "4              1               6    171.006246      455.695551   \n",
      "...          ...             ...           ...             ...   \n",
      "20862        100             335    166.637041      443.320475   \n",
      "20863        100             336    170.826845      463.537218   \n",
      "20864        100             337    169.602066      376.676980   \n",
      "20865        100             338    171.742111      361.745122   \n",
      "20866        100             339    167.626031      437.589364   \n",
      "\n",
      "       pressuremean_24h  vibrationmean_24h  voltsd_24h  rotatesd_24h  \\\n",
      "0            102.377665          41.506930   17.623759     43.648283   \n",
      "1             96.674842          41.702771   10.611608     39.450931   \n",
      "2            102.097039          39.281983   13.829868     38.445908   \n",
      "3            100.128260          38.571482   14.600352     40.676186   \n",
      "4             99.680231          39.789390   12.461183     33.019600   \n",
      "...                 ...                ...         ...           ...   \n",
      "20862         98.053732          39.556574   10.994774     56.659652   \n",
      "20863        100.731194          40.040140   13.063571     53.773110   \n",
      "20864         98.959072          42.700168   12.970158     69.725998   \n",
      "20865        100.189140          41.407176   15.262020     50.659892   \n",
      "20866         97.715198          40.743044   13.453440     49.363048   \n",
      "\n",
      "       pressuresd_24h  vibrationsd_24h  ...  RULWeek  failure  failed   RUL  \\\n",
      "0            8.540959         4.298246  ...      1.0     none       0   1.0   \n",
      "1           10.669844         5.808709  ...      1.0     none       0   2.0   \n",
      "2            9.558219         4.133639  ...      1.0     none       0   3.0   \n",
      "3            8.463613         4.632150  ...      1.0     none       0   4.0   \n",
      "4            9.178725         5.427788  ...      1.0     none       0   5.0   \n",
      "...               ...              ...  ...      ...      ...     ...   ...   \n",
      "20862        7.114386         3.965204  ...     13.0     none       0  86.0   \n",
      "20863       10.257679         4.627104  ...     13.0     none       0  87.0   \n",
      "20864       12.696419         4.450957  ...     13.0     none       0  88.0   \n",
      "20865       11.826398         4.098816  ...     13.0     none       0  89.0   \n",
      "20866        9.969325         5.354992  ...     13.0    comp2       1  90.0   \n",
      "\n",
      "       RUL_I  elapsed_time  mdl_model1  mdl_model2  mdl_model3  mdl_model4  \n",
      "0       59.0           0.0           0           0           1           0  \n",
      "1       58.0          24.0           0           0           1           0  \n",
      "2       57.0          48.0           0           0           1           0  \n",
      "3       56.0          72.0           0           0           1           0  \n",
      "4       55.0          96.0           0           0           1           0  \n",
      "...      ...           ...         ...         ...         ...         ...  \n",
      "20862    4.0        8016.0           0           0           0           1  \n",
      "20863    3.0        8040.0           0           0           0           1  \n",
      "20864    2.0        8064.0           0           0           0           1  \n",
      "20865    1.0        8088.0           0           0           0           1  \n",
      "20866    0.0        8112.0           0           0           0           1  \n",
      "\n",
      "[20867 rows x 39 columns]\n"
     ]
    }
   ],
   "source": [
    "# Convert model field to numeric using one hot encoding since there are only 4 values possible for model\n",
    "train_data = pd.get_dummies(train_data, columns=['model'], prefix='mdl', dtype=int)\n",
    "test_data = pd.get_dummies(test_data, columns=['model'], prefix='mdl', dtype=int)\n",
    "print(train_data)\n"
   ]
  },
  {
   "cell_type": "code",
   "execution_count": 6,
   "id": "4ece8d799818c3f5",
   "metadata": {
    "ExecuteTime": {
     "end_time": "2025-08-03T10:37:45.585928Z",
     "start_time": "2025-08-03T10:37:45.577445Z"
    }
   },
   "outputs": [],
   "source": [
    "# Remove the failure column as it is redundant with failed column\n",
    "train_data.drop('failure', axis=1, inplace=True)\n",
    "test_data.drop('failure', axis=1, inplace=True)"
   ]
  },
  {
   "cell_type": "code",
   "execution_count": null,
   "id": "9e4af8300bc8e9e6",
   "metadata": {
    "ExecuteTime": {
     "end_time": "2025-08-03T10:41:12.615347Z",
     "start_time": "2025-08-03T10:41:12.563724Z"
    }
   },
   "outputs": [
    {
     "name": "stdout",
     "output_type": "stream",
     "text": [
      "DI                0.650551\n",
      "mdl_model4        0.223924\n",
      "time_in_cycles    0.222056\n",
      "elapsed_time      0.217722\n",
      "age               0.210046\n",
      "mdl_model1        0.156523\n",
      "comp1             0.130099\n",
      "mdl_model2        0.124997\n",
      "comp4             0.114718\n",
      "comp3             0.108671\n",
      "Name: RUL, dtype: float64\n"
     ]
    }
   ],
   "source": [
    "import seaborn as sns\n",
    "\n",
    "# Analyse correlation with predicted variable - RUL, and take the top 10 features\n",
    "\n",
    "corr_rul = train_data.corr()['RUL'].drop(['RUL', 'RUL_I', 'RULWeek']).abs().sort_values(ascending=False)\n",
    "top_features = corr_rul.head(10)\n",
    "print(top_features)\n",
    "\n",
    "features_model_a = [\n",
    "    \"DI\",\n",
    "    \"time_in_cycles\",\n",
    "    \"elapsed_time\",\n",
    "    \"age\",\n",
    "    \"mdl_model1\",\n",
    "    \"mdl_model2\",\n",
    "    \"mdl_model4\",\n",
    "    \"comp1\",\n",
    "    \"comp3\",\n",
    "    \"comp4\",\n",
    "    \"error1\",\n",
    "    \"error2\",\n",
    "    \"error3\",\n",
    "    \"error4\",\n",
    "    \"error5\",\n",
    "]\n",
    "features_model_b = [\n",
    "    \"DI\",\n",
    "    \"time_in_cycles\",\n",
    "    \"elapsed_time\",\n",
    "    \"age\",\n",
    "    \"mdl_model1\",\n",
    "    \"mdl_model2\",\n",
    "    \"mdl_model4\",\n",
    "    \"comp1\",\n",
    "    \"comp3\",\n",
    "    \"comp4\",\n",
    "]\n",
    "\n",
    "X_model_a = train_data[features_model_a].values\n",
    "y_model_a = train_data[\"RUL\"].values.reshape(-1, 1)\n",
    "X_model_b = train_data[features_model_b].values\n",
    "y_model_b = train_data[\"RUL\"].values.reshape(-1, 1)\n"
   ]
  },
  {
   "cell_type": "code",
   "execution_count": null,
   "id": "4bc5237d",
   "metadata": {},
   "outputs": [],
   "source": [
    "from sklearn.preprocessing import StandardScaler\n",
    "\n",
    "cont_idx = [0, 1, 2, 3, 6, 8, 9]\n",
    "scaler = StandardScaler()\n",
    "X_cont = scaler.fit_transform(X[:, cont_idx])"
   ]
  }
 ],
 "metadata": {
  "kernelspec": {
   "display_name": "EV-RUL-Prediction-System",
   "language": "python",
   "name": "python3"
  },
  "language_info": {
   "codemirror_mode": {
    "name": "ipython",
    "version": 3
   },
   "file_extension": ".py",
   "mimetype": "text/x-python",
   "name": "python",
   "nbconvert_exporter": "python",
   "pygments_lexer": "ipython3",
   "version": "3.12.10"
  }
 },
 "nbformat": 4,
 "nbformat_minor": 5
}
